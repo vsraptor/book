{
 "cells": [
  {
   "cell_type": "markdown",
   "metadata": {},
   "source": [
    "## Wordnet pipes",
    "\n"
   ]
  },
  {
   "cell_type": "code",
   "execution_count": 36,
   "metadata": {},
   "outputs": [],
   "source": [
    "from sim.patch_wn import *"
   ]
  },
  {
   "cell_type": "code",
   "execution_count": 2,
   "metadata": {},
   "outputs": [
    {
     "data": {
      "text/plain": [
       "[car]"
      ]
     },
     "execution_count": 2,
     "metadata": {},
     "output_type": "execute_result"
    }
   ],
   "source": [
    "w('car')|lst"
   ]
  },
  {
   "cell_type": "code",
   "execution_count": 3,
   "metadata": {},
   "outputs": [
    {
     "data": {
      "text/plain": [
       "['ewn-car-n']"
      ]
     },
     "execution_count": 3,
     "metadata": {},
     "output_type": "execute_result"
    }
   ],
   "source": [
    "w('car')|ids|lst"
   ]
  },
  {
   "cell_type": "code",
   "execution_count": 4,
   "metadata": {},
   "outputs": [
    {
     "data": {
      "text/plain": [
       "[automobile:motorcar:machine:car:auto, railcar:railroad car:car:railway car, car:gondola, elevator car:car, cable car:car]"
      ]
     },
     "execution_count": 4,
     "metadata": {},
     "output_type": "execute_result"
    }
   ],
   "source": [
    "w('car')|syns|lst"
   ]
  },
  {
   "cell_type": "code",
   "execution_count": 5,
   "metadata": {},
   "outputs": [
    {
     "data": {
      "text/plain": [
       "[automobile:motorcar:machine:car:auto, railcar:railroad car:car:railway car, car:gondola, elevator car:car, cable car:car]"
      ]
     },
     "execution_count": 5,
     "metadata": {},
     "output_type": "execute_result"
    }
   ],
   "source": [
    "ws('car')|lst"
   ]
  },
  {
   "cell_type": "code",
   "execution_count": 6,
   "metadata": {},
   "outputs": [
    {
     "data": {
      "text/plain": [
       "['ewn-02961779-n', 'ewn-02963378-n', 'ewn-02963937-n', 'ewn-02963788-n', 'ewn-02937835-n']"
      ]
     },
     "execution_count": 6,
     "metadata": {},
     "output_type": "execute_result"
    }
   ],
   "source": [
    "ws('car')|ids|lst"
   ]
  },
  {
   "cell_type": "code",
   "execution_count": null,
   "metadata": {},
   "outputs": [],
   "source": [
    "w(['lemon','orange'])|syns|lst"
   ]
  },
  {
   "cell_type": "code",
   "execution_count": 8,
   "metadata": {},
   "outputs": [
    {
     "data": {
      "text/plain": [
       "[wheeled vehicle, steering system:steering mechanism]"
      ]
     },
     "execution_count": 8,
     "metadata": {},
     "output_type": "execute_result"
    }
   ],
   "source": [
    "ws('wheel')|partof|lst"
   ]
  },
  {
   "cell_type": "code",
   "execution_count": 9,
   "metadata": {},
   "outputs": [
    {
     "data": {
      "text/plain": [
       "[simple machine:machine,\n",
       " handwheel,\n",
       " force,\n",
       " helm,\n",
       " game equipment,\n",
       " instrument of torture,\n",
       " wheeled vehicle,\n",
       " rotate:go around:revolve,\n",
       " transport,\n",
       " move:go:travel:locomote,\n",
       " ride]"
      ]
     },
     "execution_count": 9,
     "metadata": {},
     "output_type": "execute_result"
    }
   ],
   "source": [
    "ws('wheel')|isa|lst"
   ]
  },
  {
   "cell_type": "code",
   "execution_count": 12,
   "metadata": {},
   "outputs": [
    {
     "data": {
      "text/plain": [
       "[cabochon, opaque gem, transparent gem, semi-precious stone, bran muffin, corn muffin, popover, crown jewel, solitaire, diamond, ruby, pearl, emerald, sapphire]"
      ]
     },
     "execution_count": 12,
     "metadata": {},
     "output_type": "execute_result"
    }
   ],
   "source": [
    "ws('gem')|typeof|lst"
   ]
  },
  {
   "cell_type": "code",
   "execution_count": 40,
   "metadata": {},
   "outputs": [
    {
     "data": {
      "text/plain": [
       "[gas:gun:accelerator pedal:gas pedal:accelerator:throttle,\n",
       " air bag,\n",
       " auto accessory,\n",
       " automobile engine,\n",
       " car horn:automobile horn:hooter:motor horn:horn,\n",
       " buffer:fender,\n",
       " bumper,\n",
       " car door,\n",
       " car mirror,\n",
       " car seat]"
      ]
     },
     "execution_count": 40,
     "metadata": {},
     "output_type": "execute_result"
    }
   ],
   "source": [
    "ws('car')|haspart|take(10)|lst"
   ]
  },
  {
   "cell_type": "code",
   "execution_count": 18,
   "metadata": {},
   "outputs": [
    {
     "data": {
      "text/plain": [
       "[(0.444, (wheel:roulette wheel, bullock:steer)),\n",
       " (0.444, (wheel:bicycle:cycle:bike, bullock:steer)),\n",
       " (0.400, (wheel, bullock:steer)),\n",
       " (0.400, (wheel, bullock:steer)),\n",
       " (0.400, (wheel:steering wheel, bullock:steer))]"
      ]
     },
     "execution_count": 18,
     "metadata": {},
     "output_type": "execute_result"
    }
   ],
   "source": [
    "(ws('wheel'),ws('steer'))|prod|wup|sort|reverse|take(5)|lst"
   ]
  },
  {
   "cell_type": "code",
   "execution_count": 19,
   "metadata": {},
   "outputs": [
    {
     "data": {
      "text/plain": [
       "[(1.000, (stone:gem:gemstone, stone:gem:gemstone)),\n",
       " (0.200, (gem:jewel, Lucy Stone:Stone)),\n",
       " (0.200, (gem:jewel, Stone:Edward Durell Stone)),\n",
       " (0.167, (gem:jewel, Harlan Stone:Harlan F. Stone:Stone:Harlan Fisk Stone)),\n",
       " (0.167, (gem:jewel, Stone:Oliver Stone))]"
      ]
     },
     "execution_count": 19,
     "metadata": {},
     "output_type": "execute_result"
    }
   ],
   "source": [
    "(ws('gem'),ws('stone'))|prod|path|sort|reverse|take(5)|lst"
   ]
  },
  {
   "cell_type": "code",
   "execution_count": 39,
   "metadata": {},
   "outputs": [
    {
     "data": {
      "text/plain": [
       "['ewn-motorcycle-n-03796045-01', 'ewn-bike-n-03796045-02']"
      ]
     },
     "execution_count": 39,
     "metadata": {},
     "output_type": "execute_result"
    }
   ],
   "source": [
    "[list((ws('car'),ws('bike'))|prod|wup|sort|reverse|take(5))[0][1][1]]|sns|ids|lst"
   ]
  },
  {
   "cell_type": "code",
   "execution_count": null,
   "metadata": {},
   "outputs": [],
   "source": []
  }
 ],
 "metadata": {
  "kernelspec": {
   "display_name": "Python 3",
   "language": "python",
   "name": "python3"
  },
  "language_info": {
   "codemirror_mode": {
    "name": "ipython",
    "version": 3
   },
   "file_extension": ".py",
   "mimetype": "text/x-python",
   "name": "python",
   "nbconvert_exporter": "python",
   "pygments_lexer": "ipython3",
   "version": "3.6.8"
  }
 },
 "nbformat": 4,
 "nbformat_minor": 2
}
