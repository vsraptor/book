{
 "cells": [
  {
   "cell_type": "markdown",
   "metadata": {},
   "source": [
    "## 2D binary map",
    "\n",
    "This module implement 2D bit array, where every element is one or zero and takes single bit.\n",
    "Based on bitarray.\n",
    "Still work in progress..\n",
    "\n",
    "It is not complete yet, not fully tested (wrote several test in /test, but lazy for now the TM is more fun :).\n",
    "\n",
    "There are many possibilities for optimizations."
   ]
  },
  {
   "cell_type": "code",
   "execution_count": 1,
   "metadata": {
    "collapsed": true
   },
   "outputs": [],
   "source": [
    "import sys\n",
    "sys.path.append('../lib')\n",
    "import numpy as np\n",
    "from bmap2D import *"
   ]
  },
  {
   "cell_type": "code",
   "execution_count": 2,
   "metadata": {
    "collapsed": false
   },
   "outputs": [
    {
     "data": {
      "text/plain": [
       "0| 00000000000000000000\n",
       "1| 00000000000000000000\n",
       "2| 00000000000000000000\n",
       "3| 00000000000000000000\n",
       "4| 00000000000000000000"
      ]
     },
     "execution_count": 2,
     "metadata": {},
     "output_type": "execute_result"
    }
   ],
   "source": [
    "bm = BMap2D(nrows=5, ncols=20)\n",
    "bm"
   ]
  },
  {
   "cell_type": "code",
   "execution_count": 3,
   "metadata": {
    "collapsed": false
   },
   "outputs": [
    {
     "data": {
      "text/plain": [
       "bitarray('01111110110000010001')"
      ]
     },
     "execution_count": 3,
     "metadata": {},
     "output_type": "execute_result"
    }
   ],
   "source": [
    "bm.rand_item"
   ]
  },
  {
   "cell_type": "code",
   "execution_count": 4,
   "metadata": {
    "collapsed": false
   },
   "outputs": [
    {
     "data": {
      "text/plain": [
       "bitarray('0001001110010000000111101010100000011110011000101111001101001000100010001111110100110010010100111101')"
      ]
     },
     "execution_count": 4,
     "metadata": {},
     "output_type": "execute_result"
    }
   ],
   "source": [
    "bm.rand_bmap"
   ]
  },
  {
   "cell_type": "code",
   "execution_count": 5,
   "metadata": {
    "collapsed": false
   },
   "outputs": [
    {
     "data": {
      "text/plain": [
       "0| 10001010010110110000\n",
       "1| 10000010101100111110\n",
       "2| 11001001000111100000\n",
       "3| 11001010001100101101\n",
       "4| 11101001000110111100"
      ]
     },
     "execution_count": 5,
     "metadata": {},
     "output_type": "execute_result"
    }
   ],
   "source": [
    "bm.set(bm.rand_bmap)\n",
    "bm"
   ]
  },
  {
   "cell_type": "code",
   "execution_count": 6,
   "metadata": {
    "collapsed": false
   },
   "outputs": [
    {
     "data": {
      "text/plain": [
       "0| 10001010010110110000\n",
       "1| 00000000000000000000\n",
       "2| 11001001000111100000\n",
       "3| 11001010001100101101\n",
       "4| 11101001000110111100"
      ]
     },
     "execution_count": 6,
     "metadata": {},
     "output_type": "execute_result"
    }
   ],
   "source": [
    "bm[1,:] = 0\n",
    "bm"
   ]
  },
  {
   "cell_type": "code",
   "execution_count": 7,
   "metadata": {
    "collapsed": false
   },
   "outputs": [
    {
     "data": {
      "text/plain": [
       "0| 10101010010110110000\n",
       "1| 00100000000000000000\n",
       "2| 11101001000111100000\n",
       "3| 11101010001100101101\n",
       "4| 11101001000110111100"
      ]
     },
     "execution_count": 7,
     "metadata": {},
     "output_type": "execute_result"
    }
   ],
   "source": [
    "bm[:,2] = 1\n",
    "bm"
   ]
  },
  {
   "cell_type": "code",
   "execution_count": 8,
   "metadata": {
    "collapsed": false
   },
   "outputs": [
    {
     "data": {
      "text/plain": [
       "0| 10101111110110110000\n",
       "1| 00101111100000000000\n",
       "2| 11101111100111100000\n",
       "3| 11101111101100101101\n",
       "4| 11101111100110111100"
      ]
     },
     "execution_count": 8,
     "metadata": {},
     "output_type": "execute_result"
    }
   ],
   "source": [
    "bm[:,[4,5,6,7,8]] = 1\n",
    "bm"
   ]
  },
  {
   "cell_type": "code",
   "execution_count": 9,
   "metadata": {
    "collapsed": false
   },
   "outputs": [
    {
     "data": {
      "text/plain": [
       "0| 10100000010110110000\n",
       "1| 00100000000000000000\n",
       "2| 11100000000111100000\n",
       "3| 11100000001100101101\n",
       "4| 11100000000110111100"
      ]
     },
     "execution_count": 9,
     "metadata": {},
     "output_type": "execute_result"
    }
   ],
   "source": [
    "bm[:,4:8] = 0\n",
    "bm"
   ]
  },
  {
   "cell_type": "code",
   "execution_count": 10,
   "metadata": {
    "collapsed": false
   },
   "outputs": [
    {
     "data": {
      "text/plain": [
       "0| 10000000000000000000\n",
       "1| 00000000000000000000\n",
       "2| 11100000000111100000\n",
       "3| 11100000001100101101\n",
       "4| 11100000000110111100"
      ]
     },
     "execution_count": 10,
     "metadata": {},
     "output_type": "execute_result"
    }
   ],
   "source": [
    "bm[1:40] = 0 #1D access\n",
    "bm"
   ]
  },
  {
   "cell_type": "code",
   "execution_count": 11,
   "metadata": {
    "collapsed": false
   },
   "outputs": [
    {
     "data": {
      "text/plain": [
       "0| 00000000000000000000\n",
       "1| 00000000000000000000\n",
       "2| 00000000000000000000\n",
       "3| 00000000000000000000\n",
       "4| 00000000000000000000"
      ]
     },
     "execution_count": 11,
     "metadata": {},
     "output_type": "execute_result"
    }
   ],
   "source": [
    "bm.erase()\n",
    "bm"
   ]
  },
  {
   "cell_type": "code",
   "execution_count": 12,
   "metadata": {
    "collapsed": false
   },
   "outputs": [
    {
     "data": {
      "text/plain": [
       "0| 00000000000000000000\n",
       "1| 00000111111000000000\n",
       "2| 00000111111000000000\n",
       "3| 00000111111000000000\n",
       "4| 00000000000000000000"
      ]
     },
     "execution_count": 12,
     "metadata": {},
     "output_type": "execute_result"
    }
   ],
   "source": [
    "bm[1:3,5:10] = 1\n",
    "bm"
   ]
  },
  {
   "cell_type": "code",
   "execution_count": 13,
   "metadata": {
    "collapsed": false
   },
   "outputs": [
    {
     "data": {
      "text/plain": [
       "0| 11011111010010100101\n",
       "1| 00000111111000000000\n",
       "2| 00000111111000000000\n",
       "3| 00000111111000000000\n",
       "4| 00000000000000000000"
      ]
     },
     "execution_count": 13,
     "metadata": {},
     "output_type": "execute_result"
    }
   ],
   "source": [
    "bm[0,:] = bm.rand_item\n",
    "bm"
   ]
  },
  {
   "cell_type": "code",
   "execution_count": 14,
   "metadata": {
    "collapsed": false
   },
   "outputs": [
    {
     "data": {
      "text/plain": [
       "0| 10000\n",
       "1| 10000\n",
       "2| 00000\n",
       "3| 10000\n",
       "4| 10000\n",
       "5| 11110\n",
       "6| 11110\n",
       "7| 11110\n",
       "8| 01110\n",
       "9| 11110\n",
       "10| 01110\n",
       "11| 00000\n",
       "12| 10000\n",
       "13| 00000\n",
       "14| 10000\n",
       "15| 00000\n",
       "16| 00000\n",
       "17| 10000\n",
       "18| 00000\n",
       "19| 10000"
      ]
     },
     "execution_count": 14,
     "metadata": {},
     "output_type": "execute_result"
    }
   ],
   "source": [
    "bm.rotate()\n",
    "bm"
   ]
  },
  {
   "cell_type": "code",
   "execution_count": 15,
   "metadata": {
    "collapsed": false
   },
   "outputs": [
    {
     "data": {
      "text/plain": [
       "0| 11011111010010100101\n",
       "1| 00000111111000000000\n",
       "2| 00000111111000000000\n",
       "3| 00000111111000000000\n",
       "4| 00000000000000000000"
      ]
     },
     "execution_count": 15,
     "metadata": {},
     "output_type": "execute_result"
    }
   ],
   "source": [
    "bm.rotate()\n",
    "bm"
   ]
  },
  {
   "cell_type": "code",
   "execution_count": 16,
   "metadata": {
    "collapsed": false
   },
   "outputs": [
    {
     "data": {
      "text/plain": [
       "0| 00000000000000000000\n",
       "1| 00000000000000000000\n",
       "2| 11011111010010100101\n",
       "3| 00000111111000000000\n",
       "4| 00000111111000000000"
      ]
     },
     "execution_count": 16,
     "metadata": {},
     "output_type": "execute_result"
    }
   ],
   "source": [
    "bm >> 2\n",
    "bm"
   ]
  },
  {
   "cell_type": "code",
   "execution_count": 17,
   "metadata": {
    "collapsed": false
   },
   "outputs": [
    {
     "data": {
      "text/plain": [
       "0| 11011111010010100101\n",
       "1| 00000111111000000000\n",
       "2| 00000111111000000000\n",
       "3| 00000000000000000000\n",
       "4| 00000000000000000000"
      ]
     },
     "execution_count": 17,
     "metadata": {},
     "output_type": "execute_result"
    }
   ],
   "source": [
    "bm.bmap = bm.bmap << 40\n",
    "bm"
   ]
  },
  {
   "cell_type": "code",
   "execution_count": 18,
   "metadata": {
    "collapsed": false
   },
   "outputs": [
    {
     "data": {
      "text/plain": [
       "0| 00000110111000000000"
      ]
     },
     "execution_count": 18,
     "metadata": {},
     "output_type": "execute_result"
    }
   ],
   "source": [
    "bm[1,:] & bm.rand_item"
   ]
  },
  {
   "cell_type": "code",
   "execution_count": 19,
   "metadata": {
    "collapsed": false
   },
   "outputs": [
    {
     "data": {
      "text/plain": [
       "0| 11011111111010100101"
      ]
     },
     "execution_count": 19,
     "metadata": {},
     "output_type": "execute_result"
    }
   ],
   "source": [
    "bm[0,:] | bm[1,:]"
   ]
  },
  {
   "cell_type": "code",
   "execution_count": 22,
   "metadata": {
    "collapsed": false
   },
   "outputs": [
    {
     "data": {
      "text/plain": [
       "[6, 30, 7]"
      ]
     },
     "execution_count": 22,
     "metadata": {},
     "output_type": "execute_result"
    }
   ],
   "source": [
    "bm.coords1D([(1,1),(5,5),(0,7)])"
   ]
  },
  {
   "cell_type": "code",
   "execution_count": 21,
   "metadata": {
    "collapsed": false
   },
   "outputs": [
    {
     "data": {
      "text/plain": [
       "[(1, 5), (6, 10), (8, 2), (11, 15)]"
      ]
     },
     "execution_count": 21,
     "metadata": {},
     "output_type": "execute_result"
    }
   ],
   "source": [
    "bm.coords2D([5,30,42,55])"
   ]
  },
  {
   "cell_type": "code",
   "execution_count": null,
   "metadata": {
    "collapsed": true
   },
   "outputs": [],
   "source": []
  }
 ],
 "metadata": {
  "kernelspec": {
   "display_name": "Python 2",
   "language": "python",
   "name": "python2"
  },
  "language_info": {
   "codemirror_mode": {
    "name": "ipython",
    "version": 2
   },
   "file_extension": ".py",
   "mimetype": "text/x-python",
   "name": "python",
   "nbconvert_exporter": "python",
   "pygments_lexer": "ipython2",
   "version": "2.7.6"
  }
 },
 "nbformat": 4,
 "nbformat_minor": 0
}
